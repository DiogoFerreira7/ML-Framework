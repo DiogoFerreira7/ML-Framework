{
 "cells": [
  {
   "cell_type": "code",
   "execution_count": null,
   "id": "15c088ed",
   "metadata": {},
   "outputs": [],
   "source": [
    "%run "
   ]
  },
  {
   "cell_type": "code",
   "execution_count": null,
   "id": "4d2d5781",
   "metadata": {},
   "outputs": [],
   "source": [
    "import torch\n",
    "from torch import nn, tensor"
   ]
  },
  {
   "cell_type": "code",
   "execution_count": null,
   "id": "6b6fa301",
   "metadata": {},
   "outputs": [],
   "source": [
    "class Model(nn.Module):\n",
    "    \n",
    "    def __init__(self, number_of_inputs, number_of_hidden, number_of_outputs):\n",
    "        super().__init__()\n",
    "        self.layers = [\n",
    "                       Linear(number_of_inputs,number_of_hidden), \n",
    "                       nn.ReLU(), \n",
    "                       Linear(number_of_hidden,number_of_outputs)\n",
    "                      ]\n",
    "        \n",
    "    def __call__(self, inputs, target):\n",
    "        # Carry out our forward pass\n",
    "        for l in self.layers: \n",
    "            prediction = l(inputs)\n",
    "        \n",
    "        # Using [:, None] creates a new dimension for the target array\n",
    "        # thus splitting them all up into individual components\n",
    "        return F.mse_loss(prediction, target[:,None])"
   ]
  },
  {
   "cell_type": "code",
   "execution_count": null,
   "id": "42aac259",
   "metadata": {},
   "outputs": [
    {
     "data": {
      "text/plain": [
       "tensor([[1],\n",
       "        [2],\n",
       "        [3],\n",
       "        [4]])"
      ]
     },
     "execution_count": null,
     "metadata": {},
     "output_type": "execute_result"
    }
   ],
   "source": [
    "tensor([1,2,3,4])[:, None]"
   ]
  },
  {
   "cell_type": "code",
   "execution_count": null,
   "id": "0e43c566",
   "metadata": {},
   "outputs": [],
   "source": []
  }
 ],
 "metadata": {
  "kernelspec": {
   "display_name": "python3",
   "language": "python",
   "name": "python3"
  }
 },
 "nbformat": 4,
 "nbformat_minor": 5
}
