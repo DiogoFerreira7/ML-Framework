{
 "cells": [
  {
   "cell_type": "code",
   "execution_count": null,
   "id": "9491b9ad",
   "metadata": {},
   "outputs": [],
   "source": [
    "%run \"Module.ipynb\""
   ]
  },
  {
   "cell_type": "code",
   "execution_count": null,
   "id": "a57715dd",
   "metadata": {},
   "outputs": [],
   "source": [
    "class MeanSquaredError(Module):\n",
    "    \n",
    "    def forward(self, inputs, target):\n",
    "        return (inputs.squeeze() - target).pow(2).mean()\n",
    "    \n",
    "    def bwd(self, outputs, inputs, target):\n",
    "        # Squeeze to remove any unecessary size 1 dimensions in order to be able to subtract\n",
    "        # by unsqueezing on dimension -1 we create a separate tensor of individual values\n",
    "        # all respective gradient values are then set to this array\n",
    "        inputs.g = 2 * (inputs.squeeze() - target).unsqueeze(-1) / target.shape[0]"
   ]
  },
  {
   "cell_type": "code",
   "execution_count": null,
   "id": "c6f70b16",
   "metadata": {},
   "outputs": [],
   "source": []
  },
  {
   "cell_type": "code",
   "execution_count": null,
   "id": "8dff52a5",
   "metadata": {},
   "outputs": [],
   "source": []
  }
 ],
 "metadata": {
  "kernelspec": {
   "display_name": "python3",
   "language": "python",
   "name": "python3"
  }
 },
 "nbformat": 4,
 "nbformat_minor": 5
}
