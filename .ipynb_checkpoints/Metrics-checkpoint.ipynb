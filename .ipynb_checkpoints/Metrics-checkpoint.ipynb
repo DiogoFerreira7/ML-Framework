{
 "cells": [
  {
   "cell_type": "code",
   "execution_count": null,
   "id": "dc0764db",
   "metadata": {},
   "outputs": [],
   "source": [
    "%run \"Module.ipynb\""
   ]
  },
  {
   "cell_type": "code",
   "execution_count": null,
   "id": "2910af86",
   "metadata": {},
   "outputs": [],
   "source": [
    "class Metric(Module):\n",
    "    pass\n"
   ]
  },
  {
   "cell_type": "code",
   "execution_count": null,
   "id": "e8d6c1e0",
   "metadata": {},
   "outputs": [],
   "source": [
    "class Accuracy(Module):\n",
    "    "
   ]
  }
 ],
 "metadata": {
  "kernelspec": {
   "display_name": "python3",
   "language": "python",
   "name": "python3"
  }
 },
 "nbformat": 4,
 "nbformat_minor": 5
}
