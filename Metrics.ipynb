{
 "cells": [
  {
   "cell_type": "code",
   "execution_count": null,
   "id": "3981382e",
   "metadata": {},
   "outputs": [],
   "source": [
    "%run \"Module.ipynb\""
   ]
  },
  {
   "cell_type": "code",
   "execution_count": null,
   "id": "be1f9067",
   "metadata": {},
   "outputs": [],
   "source": [
    "class Metric(Module):\n",
    "    pass\n"
   ]
  },
  {
   "cell_type": "code",
   "execution_count": null,
   "id": "62b9e8ce",
   "metadata": {},
   "outputs": [],
   "source": [
    "class Accuracy(Metric):\n",
    "    \n",
    "    def calculate(self, output, target):\n",
    "        # We take the argmax of the output (this being for cross entropy)\n",
    "        # where dim = 1 is our rows (so for each row we take the highest value)\n",
    "        # if this index matches the target then it will return true / false -> 1 / 0 via float()\n",
    "        # then we take the mean of 1s and 0s in the matrix and will receive the accuracy in return\n",
    "        return (output.argmax(dim = 1) == target)"
   ]
  },
  {
   "cell_type": "code",
   "execution_count": null,
   "id": "57178918",
   "metadata": {},
   "outputs": [],
   "source": []
  },
  {
   "cell_type": "code",
   "execution_count": null,
   "id": "aad300f8",
   "metadata": {},
   "outputs": [],
   "source": []
  }
 ],
 "metadata": {
  "kernelspec": {
   "display_name": "python3",
   "language": "python",
   "name": "python3"
  }
 },
 "nbformat": 4,
 "nbformat_minor": 5
}
